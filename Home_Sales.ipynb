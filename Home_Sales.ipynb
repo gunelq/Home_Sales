{
  "cells": [
    {
      "cell_type": "code",
      "execution_count": 1,
      "metadata": {
        "colab": {
          "base_uri": "https://localhost:8080/"
        },
        "id": "a_KW73O2e3dw",
        "outputId": "40e79c63-2d0a-41a3-d56c-522cd9c16a38"
      },
      "outputs": [
        {
          "output_type": "stream",
          "name": "stdout",
          "text": [
            "\r0% [Working]\r            \rHit:1 http://archive.ubuntu.com/ubuntu jammy InRelease\n",
            "\r0% [Waiting for headers] [Connecting to security.ubuntu.com (185.125.190.82)] [Connected to cloud.r-\r                                                                                                    \rHit:2 http://archive.ubuntu.com/ubuntu jammy-updates InRelease\n",
            "\r                                                                                                    \rHit:3 http://archive.ubuntu.com/ubuntu jammy-backports InRelease\n",
            "\r0% [Connecting to security.ubuntu.com (185.125.190.82)] [Connected to cloud.r-project.org (52.85.151\r                                                                                                    \rHit:4 https://cloud.r-project.org/bin/linux/ubuntu jammy-cran40/ InRelease\n",
            "\r0% [Waiting for headers] [Connected to r2u.stat.illinois.edu (192.17.190.167)] [Waiting for headers]\r                                                                                                    \rHit:5 https://developer.download.nvidia.com/compute/cuda/repos/ubuntu2204/x86_64  InRelease\n",
            "Hit:6 http://security.ubuntu.com/ubuntu jammy-security InRelease\n",
            "Ign:7 https://r2u.stat.illinois.edu/ubuntu jammy InRelease\n",
            "Hit:8 https://r2u.stat.illinois.edu/ubuntu jammy Release\n",
            "Hit:9 https://ppa.launchpadcontent.net/deadsnakes/ppa/ubuntu jammy InRelease\n",
            "Hit:10 https://ppa.launchpadcontent.net/graphics-drivers/ppa/ubuntu jammy InRelease\n",
            "Hit:11 https://ppa.launchpadcontent.net/ubuntugis/ppa/ubuntu jammy InRelease\n",
            "Reading package lists... Done\n",
            "W: Skipping acquire of configured file 'main/source/Sources' as repository 'https://r2u.stat.illinois.edu/ubuntu jammy InRelease' does not seem to provide it (sources.list entry misspelt?)\n"
          ]
        }
      ],
      "source": [
        "import os\n",
        "# Find the latest version of spark 3.x  from http://www.apache.org/dist/spark/ and enter as the spark version\n",
        "# For example:\n",
        "# spark_version = 'spark-3.4.0'\n",
        "spark_version = 'spark-3.5.3'\n",
        "os.environ['SPARK_VERSION']=spark_version\n",
        "\n",
        "# Install Spark and Java\n",
        "!apt-get update\n",
        "!apt-get install openjdk-11-jdk-headless -qq > /dev/null\n",
        "!wget -q http://www.apache.org/dist/spark/$SPARK_VERSION/$SPARK_VERSION-bin-hadoop3.tgz\n",
        "!tar xf $SPARK_VERSION-bin-hadoop3.tgz\n",
        "!pip install -q findspark\n",
        "\n",
        "# Set Environment Variables\n",
        "os.environ[\"JAVA_HOME\"] = \"/usr/lib/jvm/java-11-openjdk-amd64\"\n",
        "os.environ[\"SPARK_HOME\"] = f\"/content/{spark_version}-bin-hadoop3\"\n",
        "\n",
        "# Start a SparkSession\n",
        "import findspark\n",
        "findspark.init()"
      ]
    },
    {
      "cell_type": "code",
      "execution_count": 2,
      "metadata": {
        "id": "2XbWNf1Te5fM"
      },
      "outputs": [],
      "source": [
        "# Imports\n",
        "from pyspark.sql import SparkSession\n",
        "import time\n",
        "\n",
        "# Create a SparkSession\n",
        "spark = SparkSession.builder.appName(\"SparkSQL\").getOrCreate()"
      ]
    },
    {
      "cell_type": "code",
      "execution_count": 3,
      "metadata": {
        "colab": {
          "base_uri": "https://localhost:8080/"
        },
        "id": "wOJqxG_RPSwp",
        "outputId": "002af424-f1c2-49fa-eec5-e5411538c728"
      },
      "outputs": [
        {
          "output_type": "stream",
          "name": "stdout",
          "text": [
            "+--------------------+----------+----------+------+--------+---------+-----------+--------+------+----------+----+\n",
            "|                  id|      date|date_built| price|bedrooms|bathrooms|sqft_living|sqft_lot|floors|waterfront|view|\n",
            "+--------------------+----------+----------+------+--------+---------+-----------+--------+------+----------+----+\n",
            "|f8a53099-ba1c-47d...|2022-04-08|      2016|936923|       4|        3|       3167|   11733|     2|         1|  76|\n",
            "|7530a2d8-1ae3-451...|2021-06-13|      2013|379628|       2|        2|       2235|   14384|     1|         0|  23|\n",
            "|43de979c-0bf0-4c9...|2019-04-12|      2014|417866|       2|        2|       2127|   10575|     2|         0|   0|\n",
            "|b672c137-b88c-48b...|2019-10-16|      2016|239895|       2|        2|       1631|   11149|     2|         0|   0|\n",
            "|e0726d4d-d595-407...|2022-01-08|      2017|424418|       3|        2|       2249|   13878|     2|         0|   4|\n",
            "|5aa00529-0533-46b...|2019-01-30|      2017|218712|       2|        3|       1965|   14375|     2|         0|   7|\n",
            "|131492a1-72e2-4a8...|2020-02-08|      2017|419199|       2|        3|       2062|    8876|     2|         0|   6|\n",
            "|8d54a71b-c520-44e...|2019-07-21|      2010|323956|       2|        3|       1506|   11816|     1|         0|  25|\n",
            "|e81aacfe-17fe-46b...|2020-06-16|      2016|181925|       3|        3|       2137|   11709|     2|         0|  22|\n",
            "|2ed8d509-7372-46d...|2021-08-06|      2015|258710|       3|        3|       1918|    9666|     1|         0|  25|\n",
            "|f876d86f-3c9f-42b...|2019-02-27|      2011|167864|       3|        3|       2471|   13924|     2|         0|  15|\n",
            "|0a2bd445-8508-4d8...|2021-12-30|      2014|337527|       2|        3|       1926|   12556|     1|         0|  23|\n",
            "|941bad30-eb49-4a7...|2020-05-09|      2015|229896|       3|        3|       2197|    8641|     1|         0|   3|\n",
            "|dd61eb34-6589-4c0...|2021-07-25|      2016|210247|       3|        2|       1672|   11986|     2|         0|  28|\n",
            "|f1e4cef7-d151-439...|2019-02-01|      2011|398667|       2|        3|       2331|   11356|     1|         0|   7|\n",
            "|ea620c7b-c2f7-4c6...|2021-05-31|      2011|437958|       3|        3|       2356|   11052|     1|         0|  26|\n",
            "|f233cb41-6f33-4b0...|2021-07-18|      2016|437375|       4|        3|       1704|   11721|     2|         0|  34|\n",
            "|c797ca12-52cd-4b1...|2019-06-08|      2015|288650|       2|        3|       2100|   10419|     2|         0|   7|\n",
            "|0cfe57f3-28c2-472...|2019-10-04|      2015|308313|       3|        3|       1960|    9453|     2|         0|   2|\n",
            "|4566cd2a-ac6e-435...|2019-07-15|      2016|177541|       3|        3|       2130|   10517|     2|         0|  25|\n",
            "+--------------------+----------+----------+------+--------+---------+-----------+--------+------+----------+----+\n",
            "only showing top 20 rows\n",
            "\n"
          ]
        }
      ],
      "source": [
        "# 1.  AWS S3 bucket into a DataFrame.\n",
        "from pyspark import SparkFiles\n",
        "url = \"https://2u-data-curriculum-team.s3.amazonaws.com/dataviz-classroom/v1.2/22-big-data/home_sales_revised.csv\"\n",
        "\n",
        "\n",
        "spark.sparkContext.addFile(url)\n",
        "HomeSalesData = spark.read.csv(SparkFiles.get(\"home_sales_revised.csv\"), header=True, inferSchema=True)\n",
        "\n",
        "# Show DataFrame\n",
        "HomeSalesData.show()\n"
      ]
    },
    {
      "cell_type": "code",
      "execution_count": 4,
      "metadata": {
        "id": "RoljcJ7WPpnm"
      },
      "outputs": [],
      "source": [
        "# 2. Temporary view of the DataFrame.\n",
        "\n",
        "HomeSalesData.createOrReplaceTempView('home_sales')"
      ]
    },
    {
      "cell_type": "code",
      "execution_count": 5,
      "metadata": {
        "colab": {
          "base_uri": "https://localhost:8080/"
        },
        "id": "_a7nHCL89uJy",
        "outputId": "4368d938-54b6-40aa-ff45-aee60e2ae4c9"
      },
      "outputs": [
        {
          "output_type": "stream",
          "name": "stdout",
          "text": [
            "root\n",
            " |-- id: string (nullable = true)\n",
            " |-- date: date (nullable = true)\n",
            " |-- date_built: integer (nullable = true)\n",
            " |-- price: integer (nullable = true)\n",
            " |-- bedrooms: integer (nullable = true)\n",
            " |-- bathrooms: integer (nullable = true)\n",
            " |-- sqft_living: integer (nullable = true)\n",
            " |-- sqft_lot: integer (nullable = true)\n",
            " |-- floors: integer (nullable = true)\n",
            " |-- waterfront: integer (nullable = true)\n",
            " |-- view: integer (nullable = true)\n",
            "\n"
          ]
        }
      ],
      "source": [
        "# Schema information\n",
        "HomeSalesData.printSchema()"
      ]
    },
    {
      "cell_type": "code",
      "execution_count": 6,
      "metadata": {
        "colab": {
          "base_uri": "https://localhost:8080/"
        },
        "id": "L6fkwOeOmqvq",
        "outputId": "f1300a14-fadd-4b42-bb92-5b11b7574a8a"
      },
      "outputs": [
        {
          "output_type": "stream",
          "name": "stdout",
          "text": [
            "+---------+---------+\n",
            "|Year Sold|AVG Price|\n",
            "+---------+---------+\n",
            "|     2022|296363.88|\n",
            "|     2021|301819.44|\n",
            "|     2020|298353.78|\n",
            "|     2019| 300263.7|\n",
            "+---------+---------+\n",
            "\n"
          ]
        }
      ],
      "source": [
        "# 3. What is the average price for a four bedroom house sold per year, rounded to two decimal places?\n",
        "\n",
        "Avg_Price_4bedroom = spark.sql(\"\"\"SELECT\n",
        "                                YEAR(date) as `Year Sold`,\n",
        "                                ROUND(AVG(price),2) as `AVG Price`\n",
        "                                from\n",
        "                                  home_sales\n",
        "                                where\n",
        "                                  bedrooms = 4\n",
        "                                group by\n",
        "                                  YEAR(date)\n",
        "                                ORDER BY\n",
        "                                  YEAR(date) desc\n",
        "                                  \"\"\")\n",
        "\n",
        "Avg_Price_4bedroom.show()"
      ]
    },
    {
      "cell_type": "code",
      "execution_count": 7,
      "metadata": {
        "colab": {
          "base_uri": "https://localhost:8080/"
        },
        "id": "l8p_tUS8h8it",
        "outputId": "87c51245-2776-4a32-b9e2-369d7952f187"
      },
      "outputs": [
        {
          "output_type": "stream",
          "name": "stdout",
          "text": [
            "+----------+---------+\n",
            "|Year Built|AVG Price|\n",
            "+----------+---------+\n",
            "|      2017|292676.79|\n",
            "|      2016|290555.07|\n",
            "|      2015| 288770.3|\n",
            "|      2014|290852.27|\n",
            "|      2013|295962.27|\n",
            "|      2012|293683.19|\n",
            "|      2011|291117.47|\n",
            "|      2010|292859.62|\n",
            "+----------+---------+\n",
            "\n"
          ]
        }
      ],
      "source": [
        "# 4. What is the average price of a home for each year the home was built, that have 3 bedrooms and 3 bathrooms, rounded to two decimal places?\n",
        "Avg_Price_3bed3bath = spark.sql(\"\"\"SELECT\n",
        "                                date_built as `Year Built`,\n",
        "                                ROUND(AVG(price),2) as `AVG Price`\n",
        "                                from\n",
        "                                  home_sales\n",
        "                                where\n",
        "                                  bedrooms = 3 and bathrooms = 3\n",
        "                                group by\n",
        "                                  date_built\n",
        "                                ORDER BY\n",
        "                                  date_built desc\n",
        "                                  \"\"\")\n",
        "\n",
        "Avg_Price_3bed3bath.show()"
      ]
    },
    {
      "cell_type": "code",
      "execution_count": 8,
      "metadata": {
        "colab": {
          "base_uri": "https://localhost:8080/"
        },
        "id": "Y-Eytz64liDU",
        "outputId": "47ee82d0-74f2-4dea-c265-d5a1a99a7331"
      },
      "outputs": [
        {
          "output_type": "stream",
          "name": "stdout",
          "text": [
            "+----------+---------+\n",
            "|Year Built|AVG Price|\n",
            "+----------+---------+\n",
            "|      2017|280317.58|\n",
            "|      2016| 293965.1|\n",
            "|      2015|297609.97|\n",
            "|      2014|298264.72|\n",
            "|      2013|303676.79|\n",
            "|      2012|307539.97|\n",
            "|      2011|276553.81|\n",
            "|      2010|285010.22|\n",
            "+----------+---------+\n",
            "\n"
          ]
        }
      ],
      "source": [
        "# 5. What is the average price of a home for each year the home was built,that have 3 bedrooms, 3 bathrooms, with two floors,and are greater than or equal to 2,000 square feet, rounded to two decimal places?\n",
        "Avg_Price_3bed3bath2floors = spark.sql(\"\"\"SELECT\n",
        "                                              date_built as `Year Built`,\n",
        "                                              ROUND(AVG(price),2) as `AVG Price`\n",
        "                                              from\n",
        "                                                home_sales\n",
        "                                              where\n",
        "                                                bedrooms = 3 and bathrooms = 3 and floors = 2 and sqft_living >= 2000\n",
        "                                              group by\n",
        "                                                date_built\n",
        "                                              ORDER BY\n",
        "                                                date_built desc\n",
        "                                                \"\"\")\n",
        "\n",
        "Avg_Price_3bed3bath2floors.show()\n"
      ]
    },
    {
      "cell_type": "code",
      "execution_count": 9,
      "metadata": {
        "colab": {
          "base_uri": "https://localhost:8080/"
        },
        "id": "GUrfgOX1pCRd",
        "outputId": "f4020fd4-3aae-4cc5-93f8-09a0060f67e1"
      },
      "outputs": [
        {
          "output_type": "stream",
          "name": "stdout",
          "text": [
            "+-----------+----------+\n",
            "|View Rating| AVG Price|\n",
            "+-----------+----------+\n",
            "|        100| 1026669.5|\n",
            "|         99|1061201.42|\n",
            "|         98|1053739.33|\n",
            "|         97|1129040.15|\n",
            "|         96|1017815.92|\n",
            "|         95| 1054325.6|\n",
            "|         94| 1033536.2|\n",
            "|         93|1026006.06|\n",
            "|         92| 970402.55|\n",
            "|         91|1137372.73|\n",
            "|         90|1062654.16|\n",
            "|         89|1107839.15|\n",
            "|         88|1031719.35|\n",
            "|         87| 1072285.2|\n",
            "|         86|1070444.25|\n",
            "|         85|1056336.74|\n",
            "|         84|1117233.13|\n",
            "|         83|1033965.93|\n",
            "|         82| 1063498.0|\n",
            "|         81|1053472.79|\n",
            "+-----------+----------+\n",
            "only showing top 20 rows\n",
            "\n",
            "--- 0.9474477767944336 seconds ---\n"
          ]
        }
      ],
      "source": [
        "# 6. What is the average price of a home per \"view\" rating, rounded to two decimal places,having an average home price greater than or equal to $350,000? Order by descending view rating.Although this is a small dataset, determine the run time for this query.\n",
        "\n",
        "start_time = time.time()\n",
        "Avg_Price_view = spark.sql(\"\"\"SELECT\n",
        "                                view as `View Rating`,\n",
        "                                ROUND(AVG(price),2) as `AVG Price`\n",
        "                                from\n",
        "                                  home_sales\n",
        "                                group by\n",
        "                                  view\n",
        "                                having\n",
        "                                AVG(price) >= 350000\n",
        "                                order by\n",
        "                                  view desc\n",
        "                                    \"\"\")\n",
        "\n",
        "Avg_Price_view.show()\n",
        "\n",
        "\n",
        "print(\"--- %s seconds ---\" % (time.time() - start_time))"
      ]
    },
    {
      "cell_type": "code",
      "execution_count": 10,
      "metadata": {
        "colab": {
          "base_uri": "https://localhost:8080/"
        },
        "id": "KAhk3ZD2tFy8",
        "outputId": "cd123ed1-2491-48c2-ece1-0a149972bce7"
      },
      "outputs": [
        {
          "output_type": "execute_result",
          "data": {
            "text/plain": [
              "DataFrame[]"
            ]
          },
          "metadata": {},
          "execution_count": 10
        }
      ],
      "source": [
        "# 7. Cache the the temporary table home_sales.\n",
        "spark.sql(\"cache table home_sales\")"
      ]
    },
    {
      "cell_type": "code",
      "execution_count": 11,
      "metadata": {
        "colab": {
          "base_uri": "https://localhost:8080/"
        },
        "id": "4opVhbvxtL-i",
        "outputId": "b0872351-8bb1-4bd2-edd5-32313441f5bd"
      },
      "outputs": [
        {
          "output_type": "execute_result",
          "data": {
            "text/plain": [
              "True"
            ]
          },
          "metadata": {},
          "execution_count": 11
        }
      ],
      "source": [
        "# 8. Check if the table is cached.\n",
        "spark.catalog.isCached('home_sales')"
      ]
    },
    {
      "cell_type": "code",
      "execution_count": 12,
      "metadata": {
        "colab": {
          "base_uri": "https://localhost:8080/"
        },
        "id": "5GnL46lwTSEk",
        "outputId": "45b78aae-23d3-4520-d15a-3a739b2b6e02"
      },
      "outputs": [
        {
          "output_type": "stream",
          "name": "stdout",
          "text": [
            "+-----------+----------+\n",
            "|View Rating| AVG Price|\n",
            "+-----------+----------+\n",
            "|        100| 1026669.5|\n",
            "|         99|1061201.42|\n",
            "|         98|1053739.33|\n",
            "|         97|1129040.15|\n",
            "|         96|1017815.92|\n",
            "|         95| 1054325.6|\n",
            "|         94| 1033536.2|\n",
            "|         93|1026006.06|\n",
            "|         92| 970402.55|\n",
            "|         91|1137372.73|\n",
            "|         90|1062654.16|\n",
            "|         89|1107839.15|\n",
            "|         88|1031719.35|\n",
            "|         87| 1072285.2|\n",
            "|         86|1070444.25|\n",
            "|         85|1056336.74|\n",
            "|         84|1117233.13|\n",
            "|         83|1033965.93|\n",
            "|         82| 1063498.0|\n",
            "|         81|1053472.79|\n",
            "+-----------+----------+\n",
            "only showing top 20 rows\n",
            "\n",
            "--- 0.5405788421630859 seconds ---\n"
          ]
        }
      ],
      "source": [
        "# 9. Calculates,the average price of a home per \"view\" rating,having an average home price greater than or equal to $350,000.\n",
        "\n",
        "start_time = time.time()\n",
        "Avg_Price_View = spark.sql(\"\"\"SELECT\n",
        "                                view as `View Rating`,\n",
        "                                ROUND(AVG(price),2) as `AVG Price`\n",
        "                                from\n",
        "                                  home_sales\n",
        "                                group by\n",
        "                                  view\n",
        "                                having\n",
        "                                AVG(price) >= 350000\n",
        "                                order by\n",
        "                                  view desc\n",
        "                                    \"\"\")\n",
        "\n",
        "Avg_Price_View.show()\n",
        "\n",
        "print(\"--- %s seconds ---\" % (time.time() - start_time))"
      ]
    },
    {
      "cell_type": "code",
      "execution_count": 13,
      "metadata": {
        "id": "Qm12WN9isHBR"
      },
      "outputs": [],
      "source": [
        "# 10. Partition by the \"date_built\" field on the formatted parquet home sales data\n",
        "HomeSalesData.write.partitionBy(\"date_built\").mode(\"overwrite\").parquet(\"home_sales_partitioned\")"
      ]
    },
    {
      "cell_type": "code",
      "execution_count": 14,
      "metadata": {
        "id": "AZ7BgY61sRqY"
      },
      "outputs": [],
      "source": [
        "# 11. Read the parquet formatted data.\n",
        "P_HomeSalesData_p=spark.read.parquet('home_sales_partitioned')"
      ]
    },
    {
      "cell_type": "code",
      "execution_count": 15,
      "metadata": {
        "id": "J6MJkHfvVcvh"
      },
      "outputs": [],
      "source": [
        "# 12. Temporary table for the parquet data 'p_home_sales_p'.\n",
        "P_HomeSalesData_p.createOrReplaceTempView('p_home_sales_p')"
      ]
    },
    {
      "cell_type": "code",
      "execution_count": 16,
      "metadata": {
        "colab": {
          "base_uri": "https://localhost:8080/"
        },
        "id": "G_Vhb52rU1Sn",
        "outputId": "02848b3d-6008-4c5c-e057-9d9d4c296cd6"
      },
      "outputs": [
        {
          "output_type": "stream",
          "name": "stdout",
          "text": [
            "+-----------+----------+\n",
            "|View Rating| AVG Price|\n",
            "+-----------+----------+\n",
            "|        100| 1026669.5|\n",
            "|         99|1061201.42|\n",
            "|         98|1053739.33|\n",
            "|         97|1129040.15|\n",
            "|         96|1017815.92|\n",
            "|         95| 1054325.6|\n",
            "|         94| 1033536.2|\n",
            "|         93|1026006.06|\n",
            "|         92| 970402.55|\n",
            "|         91|1137372.73|\n",
            "|         90|1062654.16|\n",
            "|         89|1107839.15|\n",
            "|         88|1031719.35|\n",
            "|         87| 1072285.2|\n",
            "|         86|1070444.25|\n",
            "|         85|1056336.74|\n",
            "|         84|1117233.13|\n",
            "|         83|1033965.93|\n",
            "|         82| 1063498.0|\n",
            "|         81|1053472.79|\n",
            "+-----------+----------+\n",
            "only showing top 20 rows\n",
            "\n",
            "--- 0.9160075187683105 seconds ---\n"
          ]
        }
      ],
      "source": [
        "# 13.calculates the average price of a home per \"view\" rating, having an average home price greater than or equal to $350,000.Determine\n",
        "\n",
        "start_time = time.time()\n",
        "Avg_Price_View = spark.sql(\"\"\"SELECT\n",
        "                                view as `View Rating`,\n",
        "                                ROUND(AVG(price),2) as `AVG Price`\n",
        "                                from\n",
        "                                  p_home_sales_p\n",
        "                                group by\n",
        "                                  view\n",
        "                                having\n",
        "                                AVG(price) >= 350000\n",
        "                                order by\n",
        "                                  view desc\n",
        "                                    \"\"\")\n",
        "\n",
        "Avg_Price_View.show()\n",
        "\n",
        "\n",
        "print(\"--- %s seconds ---\" % (time.time() - start_time))"
      ]
    },
    {
      "cell_type": "code",
      "execution_count": 17,
      "metadata": {
        "id": "-o50g__bFRDP"
      },
      "outputs": [],
      "source": [
        "# 14. Partition by the \"view\" field on the formatted parquet \"home_sales_partitioned2\"\n",
        "HomeSalesData.write.partitionBy(\"view\").mode(\"overwrite\").parquet(\"home_sales_partitioned2\")"
      ]
    },
    {
      "cell_type": "code",
      "execution_count": 18,
      "metadata": {
        "id": "cs3erbccFRHH"
      },
      "outputs": [],
      "source": [
        "# 15. Read the parquet formatted data ('home_sales_partitioned2').\n",
        "p_HomeSalesData_p2=spark.read.parquet('home_sales_partitioned2')\n"
      ]
    },
    {
      "cell_type": "code",
      "execution_count": 19,
      "metadata": {
        "id": "MOCon9Op99Iw"
      },
      "outputs": [],
      "source": [
        " # Temporary table for the parquet data 'p_home_sales_p2'.\n",
        " p_HomeSalesData_p2.createOrReplaceTempView('p_home_sales_p2')"
      ]
    },
    {
      "cell_type": "code",
      "execution_count": 20,
      "metadata": {
        "colab": {
          "base_uri": "https://localhost:8080/"
        },
        "id": "wryr6XazFRL1",
        "outputId": "9e6e0405-fd7e-45c5-bf05-ecba504cce73"
      },
      "outputs": [
        {
          "output_type": "stream",
          "name": "stdout",
          "text": [
            "+-----------+----------+\n",
            "|View Rating| AVG Price|\n",
            "+-----------+----------+\n",
            "|        100| 1026669.5|\n",
            "|         99|1061201.42|\n",
            "|         98|1053739.33|\n",
            "|         97|1129040.15|\n",
            "|         96|1017815.92|\n",
            "|         95| 1054325.6|\n",
            "|         94| 1033536.2|\n",
            "|         93|1026006.06|\n",
            "|         92| 970402.55|\n",
            "|         91|1137372.73|\n",
            "|         90|1062654.16|\n",
            "|         89|1107839.15|\n",
            "|         88|1031719.35|\n",
            "|         87| 1072285.2|\n",
            "|         86|1070444.25|\n",
            "|         85|1056336.74|\n",
            "|         84|1117233.13|\n",
            "|         83|1033965.93|\n",
            "|         82| 1063498.0|\n",
            "|         81|1053472.79|\n",
            "+-----------+----------+\n",
            "only showing top 20 rows\n",
            "\n",
            "--- 1.304619312286377 seconds ---\n"
          ]
        }
      ],
      "source": [
        "# calculates:\n",
        "# the average price of a home per \"view\" rating\n",
        "# having an average home price greater than or equal to $350,000.\n",
        "start_time = time.time()\n",
        "\n",
        "Avg_Price_View = spark.sql(\"\"\"SELECT\n",
        "                                view as `View Rating`,\n",
        "                                ROUND(AVG(price),2) as `AVG Price`\n",
        "                                from\n",
        "                                  p_home_sales_p2\n",
        "                                group by\n",
        "                                  view\n",
        "                                having\n",
        "                                AVG(price) >= 350000\n",
        "                                order by\n",
        "                                  view desc\n",
        "                                    \"\"\")\n",
        "\n",
        "Avg_Price_View.show()\n",
        "\n",
        "print(\"--- %s seconds ---\" % (time.time() - start_time))"
      ]
    },
    {
      "cell_type": "code",
      "execution_count": 21,
      "metadata": {
        "colab": {
          "base_uri": "https://localhost:8080/"
        },
        "id": "BjX9M6X_FRPr",
        "outputId": "694b8bd8-e3b1-4e0f-c7ed-73764a460d2c"
      },
      "outputs": [
        {
          "output_type": "stream",
          "name": "stdout",
          "text": [
            "+-----------+---------+\n",
            "|View Rating|AVG Price|\n",
            "+-----------+---------+\n",
            "|        100|1026669.5|\n",
            "+-----------+---------+\n",
            "\n",
            "--- 0.5001888275146484 seconds ---\n"
          ]
        }
      ],
      "source": [
        "# 17. calculate the average price of home\n",
        "start_time = time.time()\n",
        "Avg_Price_View = spark.sql(\"\"\"SELECT\n",
        "                                view as `View Rating`,\n",
        "                                ROUND(AVG(price),2) as `AVG Price`\n",
        "                                from\n",
        "                                  home_sales\n",
        "                                where\n",
        "                                  view = 100\n",
        "                                group by\n",
        "                                  view\n",
        "                               \"\"\")\n",
        "\n",
        "Avg_Price_View.show()\n",
        "print(\"--- %s seconds ---\" % (time.time() - start_time))"
      ]
    },
    {
      "cell_type": "code",
      "execution_count": 22,
      "metadata": {
        "colab": {
          "base_uri": "https://localhost:8080/"
        },
        "id": "hjjYzQGjtbq8",
        "outputId": "8e743e85-e642-44bb-e35e-946c06710928"
      },
      "outputs": [
        {
          "output_type": "execute_result",
          "data": {
            "text/plain": [
              "DataFrame[]"
            ]
          },
          "metadata": {},
          "execution_count": 22
        }
      ],
      "source": [
        "# 18. Uncache the home_sales temporary table.\n",
        "\n",
        "spark.sql(\"uncache table home_sales\")"
      ]
    },
    {
      "cell_type": "code",
      "execution_count": 23,
      "metadata": {
        "colab": {
          "base_uri": "https://localhost:8080/"
        },
        "id": "Sy9NBvO7tlmm",
        "outputId": "a864d9a4-6efc-4c5f-d542-a7a410d50a8f"
      },
      "outputs": [
        {
          "output_type": "execute_result",
          "data": {
            "text/plain": [
              "False"
            ]
          },
          "metadata": {},
          "execution_count": 23
        }
      ],
      "source": [
        "# 15. home_sales is no longer cached\n",
        "spark.catalog.isCached(\"home_sales\")\n"
      ]
    },
    {
      "cell_type": "code",
      "execution_count": 24,
      "metadata": {
        "colab": {
          "base_uri": "https://localhost:8080/"
        },
        "id": "Si-BNruRUGK3",
        "outputId": "f9eaa5d3-dd2f-4d38-9255-893d542ea4eb"
      },
      "outputs": [
        {
          "output_type": "stream",
          "name": "stdout",
          "text": [
            "+-----------+---------+\n",
            "|View Rating|AVG Price|\n",
            "+-----------+---------+\n",
            "|        100|1026669.5|\n",
            "+-----------+---------+\n",
            "\n",
            "--- 0.5092318058013916 seconds ---\n"
          ]
        }
      ],
      "source": [
        "#calculate the average price of homes with a view rating of 100\n",
        "\n",
        "start_time = time.time()\n",
        "Avg_Price_View = spark.sql(\"\"\"SELECT\n",
        "                                view as `View Rating`,\n",
        "                                ROUND(AVG(price),2) as `AVG Price`\n",
        "                                from\n",
        "                                  home_sales\n",
        "                                where\n",
        "                                  view = 100\n",
        "                                group by\n",
        "                                  view\n",
        "                               \"\"\")\n",
        "\n",
        "Avg_Price_View.show()\n",
        "print(\"--- %s seconds ---\" % (time.time() - start_time))"
      ]
    }
  ],
  "metadata": {
    "colab": {
      "provenance": []
    },
    "gpuClass": "standard",
    "kernelspec": {
      "display_name": "Python 3 (ipykernel)",
      "language": "python",
      "name": "python3"
    },
    "language_info": {
      "codemirror_mode": {
        "name": "ipython",
        "version": 3
      },
      "file_extension": ".py",
      "mimetype": "text/x-python",
      "name": "python",
      "nbconvert_exporter": "python",
      "pygments_lexer": "ipython3",
      "version": "3.11.7"
    },
    "nteract": {
      "version": "0.28.0"
    }
  },
  "nbformat": 4,
  "nbformat_minor": 0
}